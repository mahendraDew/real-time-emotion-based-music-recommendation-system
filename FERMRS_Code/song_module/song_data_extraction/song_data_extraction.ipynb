{
 "cells": [
  {
   "cell_type": "markdown",
   "id": "0fa89955",
   "metadata": {},
   "source": [
    "# Data Extraction using Spotify Web API"
   ]
  },
  {
   "cell_type": "markdown",
   "id": "699787d5",
   "metadata": {},
   "source": [
    "### Playlist Links\n",
    "\n",
    "https://open.spotify.com/playlist/37i9dQZF1DWZKuerrwoAGz - 150 songs\n",
    "\n",
    "https://open.spotify.com/playlist/4WloBZWLuV80F07SCPxs09 - 80 songs\n",
    "\n",
    "https://open.spotify.com/playlist/3Kz5KBE3Ksupz9odBGwze6 - 54 songs"
   ]
  },
  {
   "cell_type": "markdown",
   "id": "001b980c",
   "metadata": {},
   "source": [
    "## Imports"
   ]
  },
  {
   "cell_type": "code",
   "execution_count": 1,
   "id": "4ee29e1b",
   "metadata": {},
   "outputs": [],
   "source": [
    "import pandas as pd\n",
    "import spotipy\n",
    "import spotipy.oauth2 as oauth2\n",
    "from spotipy.oauth2 import SpotifyOAuth\n",
    "from spotipy.oauth2 import SpotifyClientCredentials"
   ]
  },
  {
   "cell_type": "markdown",
   "id": "9ab51d19",
   "metadata": {},
   "source": [
    "## Credentials"
   ]
  },
  {
   "cell_type": "code",
   "execution_count": 2,
   "id": "3b6f195b",
   "metadata": {},
   "outputs": [],
   "source": [
    "with open(\"spotify_credentials.txt\") as f:\n",
    "    credentials = f.readlines()\n",
    "    cid = credentials[0][:-1]\n",
    "    secret = credentials[1]"
   ]
  },
  {
   "cell_type": "code",
   "execution_count": 3,
   "id": "6cd10cda",
   "metadata": {},
   "outputs": [],
   "source": [
    "client_credentials_manager = SpotifyClientCredentials(client_id=cid, client_secret=secret)\n",
    "\n",
    "sp = spotipy.Spotify(client_credentials_manager=client_credentials_manager)"
   ]
  },
  {
   "cell_type": "markdown",
   "id": "44a00341",
   "metadata": {},
   "source": [
    "## Functions to extract data"
   ]
  },
  {
   "cell_type": "code",
   "execution_count": 4,
   "id": "38e9fae2",
   "metadata": {},
   "outputs": [],
   "source": [
    "def get_track_ids(user, playlist_id):\n",
    "    \n",
    "    track_ids = []\n",
    "    \n",
    "    playlist = sp.user_playlist(user, playlist_id)\n",
    "    \n",
    "    for item in playlist['tracks']['items']:\n",
    "        track = item['track']\n",
    "        track_ids.append(track['id'])\n",
    "        \n",
    "    return track_ids"
   ]
  },
  {
   "cell_type": "code",
   "execution_count": 5,
   "id": "1c660ce5",
   "metadata": {},
   "outputs": [],
   "source": [
    "def get_track_features(track_ids):\n",
    "    \n",
    "    meta = sp.track(track_ids)\n",
    "    features = sp.audio_features(track_ids)\n",
    "\n",
    "    track_id = meta['id']\n",
    "    track_name = meta['name']\n",
    "    album_name = meta['album']['name']\n",
    "    artist_name = meta['album']['artists'][0]['name']\n",
    "    popularity = meta['popularity']\n",
    "    \n",
    "    danceability = features[0]['danceability']\n",
    "    loudness = features[0]['loudness']\n",
    "    speechiness = features[0]['speechiness']\n",
    "    acousticness = features[0]['acousticness']\n",
    "    liveness = features[0]['liveness']\n",
    "    instrumentalness = features[0]['instrumentalness']\n",
    "    energy = features[0]['energy']\n",
    "    valence = features[0]['valence']\n",
    "    key = features[0]['key']\n",
    "    mode = features[0]['mode']\n",
    "    tempo = features[0]['tempo']\n",
    "    time_signature = features[0]['time_signature']\n",
    "    length = features[0]['duration_ms']\n",
    "    \n",
    "    art_result = sp.search(artist_name)\n",
    "    art_track = art_result['tracks']['items'][0]\n",
    "    artist = sp.artist(art_track[\"artists\"][0][\"external_urls\"][\"spotify\"])\n",
    "    genres = artist[\"genres\"]\n",
    "\n",
    "    track_data = [track_id,track_name,\n",
    "                  album_name,artist_name,genres,popularity,\n",
    "                  danceability,loudness,speechiness,\n",
    "                  acousticness,liveness,instrumentalness,\n",
    "                  energy,valence,mode,\n",
    "                  key,tempo,time_signature,length\n",
    "                 ]\n",
    "    \n",
    "    return track_data"
   ]
  },
  {
   "cell_type": "code",
   "execution_count": 6,
   "id": "216536a1",
   "metadata": {},
   "outputs": [],
   "source": [
    "def get_data(user, playlist_id):\n",
    "    \n",
    "    track_ids = get_track_ids(user, playlist_id)\n",
    "\n",
    "    track_list = []\n",
    "\n",
    "    for i in range(len(track_ids)):\n",
    "        track_data = get_track_features(track_ids[i])\n",
    "        track_list.append(track_data)\n",
    "\n",
    "        df = pd.DataFrame(track_list, columns = ['track_id','track_name',\n",
    "                                                 'album_name','artist_name','genres','popularity',\n",
    "                                                 'danceability','loudness','speechiness',\n",
    "                                                 'acousticness','liveness','instrumentalness',\n",
    "                                                 'energy','valence','mode',\n",
    "                                                 'key','tempo','time_signature','length'\n",
    "                                                ])\n",
    "\n",
    "    return df"
   ]
  },
  {
   "cell_type": "code",
   "execution_count": 7,
   "id": "8a265814",
   "metadata": {},
   "outputs": [],
   "source": [
    "df1 = get_data('spotify', '37i9dQZF1DWZKuerrwoAGz')"
   ]
  },
  {
   "cell_type": "code",
   "execution_count": 8,
   "id": "5f6d80af",
   "metadata": {},
   "outputs": [],
   "source": [
    "df2 = get_data('spotify', '4WloBZWLuV80F07SCPxs09')"
   ]
  },
  {
   "cell_type": "code",
   "execution_count": 9,
   "id": "bb91a6d3",
   "metadata": {},
   "outputs": [],
   "source": [
    "df3 = get_data('spotify', '3Kz5KBE3Ksupz9odBGwze6')"
   ]
  },
  {
   "cell_type": "markdown",
   "id": "2fdc5bdc",
   "metadata": {},
   "source": [
    "## Saving the data to a file"
   ]
  },
  {
   "cell_type": "code",
   "execution_count": 10,
   "id": "38688326",
   "metadata": {},
   "outputs": [],
   "source": [
    "frames = [df1, df2, df3]"
   ]
  },
  {
   "cell_type": "code",
   "execution_count": 11,
   "id": "d7e5299f",
   "metadata": {},
   "outputs": [],
   "source": [
    "df = pd.concat(frames)"
   ]
  },
  {
   "cell_type": "code",
   "execution_count": 12,
   "id": "7fa314aa",
   "metadata": {},
   "outputs": [],
   "source": [
    "df.index = pd.RangeIndex(start=0, stop=len(df.index), step=1)"
   ]
  },
  {
   "cell_type": "code",
   "execution_count": 13,
   "id": "ed35c93e",
   "metadata": {},
   "outputs": [
    {
     "data": {
      "text/html": [
       "<div>\n",
       "<style scoped>\n",
       "    .dataframe tbody tr th:only-of-type {\n",
       "        vertical-align: middle;\n",
       "    }\n",
       "\n",
       "    .dataframe tbody tr th {\n",
       "        vertical-align: top;\n",
       "    }\n",
       "\n",
       "    .dataframe thead th {\n",
       "        text-align: right;\n",
       "    }\n",
       "</style>\n",
       "<table border=\"1\" class=\"dataframe\">\n",
       "  <thead>\n",
       "    <tr style=\"text-align: right;\">\n",
       "      <th></th>\n",
       "      <th>track_id</th>\n",
       "      <th>track_name</th>\n",
       "      <th>album_name</th>\n",
       "      <th>artist_name</th>\n",
       "      <th>genres</th>\n",
       "      <th>popularity</th>\n",
       "      <th>danceability</th>\n",
       "      <th>loudness</th>\n",
       "      <th>speechiness</th>\n",
       "      <th>acousticness</th>\n",
       "      <th>liveness</th>\n",
       "      <th>instrumentalness</th>\n",
       "      <th>energy</th>\n",
       "      <th>valence</th>\n",
       "      <th>mode</th>\n",
       "      <th>key</th>\n",
       "      <th>tempo</th>\n",
       "      <th>time_signature</th>\n",
       "      <th>length</th>\n",
       "    </tr>\n",
       "  </thead>\n",
       "  <tbody>\n",
       "    <tr>\n",
       "      <th>0</th>\n",
       "      <td>0VjIjW4GlUZAMYd2vXMi3b</td>\n",
       "      <td>Blinding Lights</td>\n",
       "      <td>After Hours</td>\n",
       "      <td>The Weeknd</td>\n",
       "      <td>[rap]</td>\n",
       "      <td>87</td>\n",
       "      <td>0.514</td>\n",
       "      <td>-5.934</td>\n",
       "      <td>0.0598</td>\n",
       "      <td>0.00146</td>\n",
       "      <td>0.0897</td>\n",
       "      <td>0.000095</td>\n",
       "      <td>0.730</td>\n",
       "      <td>0.334</td>\n",
       "      <td>1</td>\n",
       "      <td>1</td>\n",
       "      <td>171.005</td>\n",
       "      <td>4</td>\n",
       "      <td>200040</td>\n",
       "    </tr>\n",
       "    <tr>\n",
       "      <th>1</th>\n",
       "      <td>6UelLqGlWMcVH1E5c4H7lY</td>\n",
       "      <td>Watermelon Sugar</td>\n",
       "      <td>Fine Line</td>\n",
       "      <td>Harry Styles</td>\n",
       "      <td>[pop]</td>\n",
       "      <td>85</td>\n",
       "      <td>0.548</td>\n",
       "      <td>-4.209</td>\n",
       "      <td>0.0465</td>\n",
       "      <td>0.12200</td>\n",
       "      <td>0.3350</td>\n",
       "      <td>0.000000</td>\n",
       "      <td>0.816</td>\n",
       "      <td>0.557</td>\n",
       "      <td>1</td>\n",
       "      <td>0</td>\n",
       "      <td>95.390</td>\n",
       "      <td>4</td>\n",
       "      <td>174000</td>\n",
       "    </tr>\n",
       "    <tr>\n",
       "      <th>2</th>\n",
       "      <td>7ef4DlsgrMEH11cDZd32M6</td>\n",
       "      <td>One Kiss (with Dua Lipa)</td>\n",
       "      <td>One Kiss (with Dua Lipa)</td>\n",
       "      <td>Calvin Harris</td>\n",
       "      <td>[barbadian pop, pop, urban contemporary]</td>\n",
       "      <td>84</td>\n",
       "      <td>0.791</td>\n",
       "      <td>-3.240</td>\n",
       "      <td>0.1100</td>\n",
       "      <td>0.03700</td>\n",
       "      <td>0.0814</td>\n",
       "      <td>0.000022</td>\n",
       "      <td>0.862</td>\n",
       "      <td>0.592</td>\n",
       "      <td>0</td>\n",
       "      <td>9</td>\n",
       "      <td>123.994</td>\n",
       "      <td>4</td>\n",
       "      <td>214847</td>\n",
       "    </tr>\n",
       "    <tr>\n",
       "      <th>3</th>\n",
       "      <td>3w3y8KPTfNeOKPiqUTakBh</td>\n",
       "      <td>Locked out of Heaven</td>\n",
       "      <td>Unorthodox Jukebox</td>\n",
       "      <td>Bruno Mars</td>\n",
       "      <td>[dance pop, pop]</td>\n",
       "      <td>83</td>\n",
       "      <td>0.726</td>\n",
       "      <td>-4.165</td>\n",
       "      <td>0.0431</td>\n",
       "      <td>0.04900</td>\n",
       "      <td>0.3090</td>\n",
       "      <td>0.000000</td>\n",
       "      <td>0.698</td>\n",
       "      <td>0.867</td>\n",
       "      <td>1</td>\n",
       "      <td>5</td>\n",
       "      <td>143.994</td>\n",
       "      <td>4</td>\n",
       "      <td>233478</td>\n",
       "    </tr>\n",
       "    <tr>\n",
       "      <th>4</th>\n",
       "      <td>7qiZfU4dY1lWllzX7mPBI3</td>\n",
       "      <td>Shape of You</td>\n",
       "      <td>÷ (Deluxe)</td>\n",
       "      <td>Ed Sheeran</td>\n",
       "      <td>[pop, uk pop]</td>\n",
       "      <td>83</td>\n",
       "      <td>0.825</td>\n",
       "      <td>-3.183</td>\n",
       "      <td>0.0802</td>\n",
       "      <td>0.58100</td>\n",
       "      <td>0.0931</td>\n",
       "      <td>0.000000</td>\n",
       "      <td>0.652</td>\n",
       "      <td>0.931</td>\n",
       "      <td>0</td>\n",
       "      <td>1</td>\n",
       "      <td>95.977</td>\n",
       "      <td>4</td>\n",
       "      <td>233713</td>\n",
       "    </tr>\n",
       "  </tbody>\n",
       "</table>\n",
       "</div>"
      ],
      "text/plain": [
       "                 track_id                track_name                album_name  \\\n",
       "0  0VjIjW4GlUZAMYd2vXMi3b           Blinding Lights               After Hours   \n",
       "1  6UelLqGlWMcVH1E5c4H7lY          Watermelon Sugar                 Fine Line   \n",
       "2  7ef4DlsgrMEH11cDZd32M6  One Kiss (with Dua Lipa)  One Kiss (with Dua Lipa)   \n",
       "3  3w3y8KPTfNeOKPiqUTakBh      Locked out of Heaven        Unorthodox Jukebox   \n",
       "4  7qiZfU4dY1lWllzX7mPBI3              Shape of You                ÷ (Deluxe)   \n",
       "\n",
       "     artist_name                                    genres  popularity  \\\n",
       "0     The Weeknd                                     [rap]          87   \n",
       "1   Harry Styles                                     [pop]          85   \n",
       "2  Calvin Harris  [barbadian pop, pop, urban contemporary]          84   \n",
       "3     Bruno Mars                          [dance pop, pop]          83   \n",
       "4     Ed Sheeran                             [pop, uk pop]          83   \n",
       "\n",
       "   danceability  loudness  speechiness  acousticness  liveness  \\\n",
       "0         0.514    -5.934       0.0598       0.00146    0.0897   \n",
       "1         0.548    -4.209       0.0465       0.12200    0.3350   \n",
       "2         0.791    -3.240       0.1100       0.03700    0.0814   \n",
       "3         0.726    -4.165       0.0431       0.04900    0.3090   \n",
       "4         0.825    -3.183       0.0802       0.58100    0.0931   \n",
       "\n",
       "   instrumentalness  energy  valence  mode  key    tempo  time_signature  \\\n",
       "0          0.000095   0.730    0.334     1    1  171.005               4   \n",
       "1          0.000000   0.816    0.557     1    0   95.390               4   \n",
       "2          0.000022   0.862    0.592     0    9  123.994               4   \n",
       "3          0.000000   0.698    0.867     1    5  143.994               4   \n",
       "4          0.000000   0.652    0.931     0    1   95.977               4   \n",
       "\n",
       "   length  \n",
       "0  200040  \n",
       "1  174000  \n",
       "2  214847  \n",
       "3  233478  \n",
       "4  233713  "
      ]
     },
     "execution_count": 13,
     "metadata": {},
     "output_type": "execute_result"
    }
   ],
   "source": [
    "df.head()"
   ]
  },
  {
   "cell_type": "code",
   "execution_count": 14,
   "id": "365490ef",
   "metadata": {},
   "outputs": [
    {
     "data": {
      "text/plain": [
       "(234, 19)"
      ]
     },
     "execution_count": 14,
     "metadata": {},
     "output_type": "execute_result"
    }
   ],
   "source": [
    "df.shape"
   ]
  },
  {
   "cell_type": "code",
   "execution_count": 15,
   "id": "de0b0d2b",
   "metadata": {},
   "outputs": [],
   "source": [
    "df.to_csv('data/spotify_data/spotify.csv', sep=',', index=False)"
   ]
  },
  {
   "cell_type": "markdown",
   "id": "06893ab9",
   "metadata": {},
   "source": [
    "`Created spotify tracks data`"
   ]
  }
 ],
 "metadata": {
  "kernelspec": {
   "display_name": "Python 3 (ipykernel)",
   "language": "python",
   "name": "python3"
  },
  "language_info": {
   "codemirror_mode": {
    "name": "ipython",
    "version": 3
   },
   "file_extension": ".py",
   "mimetype": "text/x-python",
   "name": "python",
   "nbconvert_exporter": "python",
   "pygments_lexer": "ipython3",
   "version": "3.9.12"
  }
 },
 "nbformat": 4,
 "nbformat_minor": 5
}
