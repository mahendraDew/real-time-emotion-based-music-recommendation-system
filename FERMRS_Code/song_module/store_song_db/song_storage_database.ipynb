{
 "cells": [
  {
   "cell_type": "markdown",
   "metadata": {},
   "source": [
    "# Song data to database"
   ]
  },
  {
   "cell_type": "markdown",
   "metadata": {},
   "source": [
    "## Imports"
   ]
  },
  {
   "cell_type": "code",
   "execution_count": 1,
   "metadata": {},
   "outputs": [],
   "source": [
    "import sqlite3\n",
    "\n",
    "import pandas as pd\n",
    "\n",
    "import matplotlib.pyplot as plt\n",
    "%matplotlib inline"
   ]
  },
  {
   "cell_type": "markdown",
   "metadata": {},
   "source": [
    "## Data"
   ]
  },
  {
   "cell_type": "code",
   "execution_count": 2,
   "metadata": {},
   "outputs": [],
   "source": [
    "full_data = pd.read_csv('data/spotify_data/spotify_genre.csv')"
   ]
  },
  {
   "cell_type": "code",
   "execution_count": 3,
   "metadata": {},
   "outputs": [
    {
     "data": {
      "text/html": [
       "<div>\n",
       "<style scoped>\n",
       "    .dataframe tbody tr th:only-of-type {\n",
       "        vertical-align: middle;\n",
       "    }\n",
       "\n",
       "    .dataframe tbody tr th {\n",
       "        vertical-align: top;\n",
       "    }\n",
       "\n",
       "    .dataframe thead th {\n",
       "        text-align: right;\n",
       "    }\n",
       "</style>\n",
       "<table border=\"1\" class=\"dataframe\">\n",
       "  <thead>\n",
       "    <tr style=\"text-align: right;\">\n",
       "      <th></th>\n",
       "      <th>track_id</th>\n",
       "      <th>track_name</th>\n",
       "      <th>album_name</th>\n",
       "      <th>artist_name</th>\n",
       "      <th>genres</th>\n",
       "      <th>popularity</th>\n",
       "      <th>danceability</th>\n",
       "      <th>loudness</th>\n",
       "      <th>speechiness</th>\n",
       "      <th>acousticness</th>\n",
       "      <th>liveness</th>\n",
       "      <th>instrumentalness</th>\n",
       "      <th>energy</th>\n",
       "      <th>valence</th>\n",
       "      <th>mode</th>\n",
       "      <th>key</th>\n",
       "      <th>tempo</th>\n",
       "      <th>time_signature</th>\n",
       "      <th>length</th>\n",
       "      <th>cluster</th>\n",
       "    </tr>\n",
       "  </thead>\n",
       "  <tbody>\n",
       "    <tr>\n",
       "      <th>0</th>\n",
       "      <td>0VjIjW4GlUZAMYd2vXMi3b</td>\n",
       "      <td>Blinding Lights</td>\n",
       "      <td>After Hours</td>\n",
       "      <td>The Weeknd</td>\n",
       "      <td>cheerful</td>\n",
       "      <td>1.000000</td>\n",
       "      <td>0.446559</td>\n",
       "      <td>0.743290</td>\n",
       "      <td>0.092520</td>\n",
       "      <td>0.001353</td>\n",
       "      <td>0.074479</td>\n",
       "      <td>0.000105</td>\n",
       "      <td>0.725596</td>\n",
       "      <td>0.316543</td>\n",
       "      <td>1.0</td>\n",
       "      <td>0.090909</td>\n",
       "      <td>0.725315</td>\n",
       "      <td>1.0</td>\n",
       "      <td>0.242947</td>\n",
       "      <td>0</td>\n",
       "    </tr>\n",
       "    <tr>\n",
       "      <th>1</th>\n",
       "      <td>6UelLqGlWMcVH1E5c4H7lY</td>\n",
       "      <td>Watermelon Sugar</td>\n",
       "      <td>Fine Line</td>\n",
       "      <td>Harry Styles</td>\n",
       "      <td>cheerful</td>\n",
       "      <td>0.977011</td>\n",
       "      <td>0.496340</td>\n",
       "      <td>0.863852</td>\n",
       "      <td>0.057858</td>\n",
       "      <td>0.126285</td>\n",
       "      <td>0.375460</td>\n",
       "      <td>0.000000</td>\n",
       "      <td>0.822312</td>\n",
       "      <td>0.556560</td>\n",
       "      <td>1.0</td>\n",
       "      <td>0.000000</td>\n",
       "      <td>0.185351</td>\n",
       "      <td>1.0</td>\n",
       "      <td>0.195212</td>\n",
       "      <td>0</td>\n",
       "    </tr>\n",
       "    <tr>\n",
       "      <th>2</th>\n",
       "      <td>7ef4DlsgrMEH11cDZd32M6</td>\n",
       "      <td>One Kiss (with Dua Lipa)</td>\n",
       "      <td>One Kiss (with Dua Lipa)</td>\n",
       "      <td>Calvin Harris</td>\n",
       "      <td>sombre</td>\n",
       "      <td>0.965517</td>\n",
       "      <td>0.852123</td>\n",
       "      <td>0.931577</td>\n",
       "      <td>0.223352</td>\n",
       "      <td>0.038187</td>\n",
       "      <td>0.064294</td>\n",
       "      <td>0.000024</td>\n",
       "      <td>0.874044</td>\n",
       "      <td>0.594231</td>\n",
       "      <td>0.0</td>\n",
       "      <td>0.818182</td>\n",
       "      <td>0.389611</td>\n",
       "      <td>1.0</td>\n",
       "      <td>0.270090</td>\n",
       "      <td>1</td>\n",
       "    </tr>\n",
       "    <tr>\n",
       "      <th>3</th>\n",
       "      <td>3w3y8KPTfNeOKPiqUTakBh</td>\n",
       "      <td>Locked out of Heaven</td>\n",
       "      <td>Unorthodox Jukebox</td>\n",
       "      <td>Bruno Mars</td>\n",
       "      <td>cheerful</td>\n",
       "      <td>0.954023</td>\n",
       "      <td>0.756955</td>\n",
       "      <td>0.866928</td>\n",
       "      <td>0.048997</td>\n",
       "      <td>0.050625</td>\n",
       "      <td>0.343558</td>\n",
       "      <td>0.000000</td>\n",
       "      <td>0.689609</td>\n",
       "      <td>0.890216</td>\n",
       "      <td>1.0</td>\n",
       "      <td>0.454545</td>\n",
       "      <td>0.532431</td>\n",
       "      <td>1.0</td>\n",
       "      <td>0.304242</td>\n",
       "      <td>0</td>\n",
       "    </tr>\n",
       "    <tr>\n",
       "      <th>4</th>\n",
       "      <td>7qiZfU4dY1lWllzX7mPBI3</td>\n",
       "      <td>Shape of You</td>\n",
       "      <td>÷ (Deluxe)</td>\n",
       "      <td>Ed Sheeran</td>\n",
       "      <td>sombre</td>\n",
       "      <td>0.954023</td>\n",
       "      <td>0.901903</td>\n",
       "      <td>0.935561</td>\n",
       "      <td>0.145687</td>\n",
       "      <td>0.602009</td>\n",
       "      <td>0.078650</td>\n",
       "      <td>0.000000</td>\n",
       "      <td>0.637877</td>\n",
       "      <td>0.959100</td>\n",
       "      <td>0.0</td>\n",
       "      <td>0.090909</td>\n",
       "      <td>0.189543</td>\n",
       "      <td>1.0</td>\n",
       "      <td>0.304673</td>\n",
       "      <td>1</td>\n",
       "    </tr>\n",
       "  </tbody>\n",
       "</table>\n",
       "</div>"
      ],
      "text/plain": [
       "                 track_id                track_name                album_name  \\\n",
       "0  0VjIjW4GlUZAMYd2vXMi3b           Blinding Lights               After Hours   \n",
       "1  6UelLqGlWMcVH1E5c4H7lY          Watermelon Sugar                 Fine Line   \n",
       "2  7ef4DlsgrMEH11cDZd32M6  One Kiss (with Dua Lipa)  One Kiss (with Dua Lipa)   \n",
       "3  3w3y8KPTfNeOKPiqUTakBh      Locked out of Heaven        Unorthodox Jukebox   \n",
       "4  7qiZfU4dY1lWllzX7mPBI3              Shape of You                ÷ (Deluxe)   \n",
       "\n",
       "     artist_name    genres  popularity  danceability  loudness  speechiness  \\\n",
       "0     The Weeknd  cheerful    1.000000      0.446559  0.743290     0.092520   \n",
       "1   Harry Styles  cheerful    0.977011      0.496340  0.863852     0.057858   \n",
       "2  Calvin Harris    sombre    0.965517      0.852123  0.931577     0.223352   \n",
       "3     Bruno Mars  cheerful    0.954023      0.756955  0.866928     0.048997   \n",
       "4     Ed Sheeran    sombre    0.954023      0.901903  0.935561     0.145687   \n",
       "\n",
       "   acousticness  liveness  instrumentalness    energy   valence  mode  \\\n",
       "0      0.001353  0.074479          0.000105  0.725596  0.316543   1.0   \n",
       "1      0.126285  0.375460          0.000000  0.822312  0.556560   1.0   \n",
       "2      0.038187  0.064294          0.000024  0.874044  0.594231   0.0   \n",
       "3      0.050625  0.343558          0.000000  0.689609  0.890216   1.0   \n",
       "4      0.602009  0.078650          0.000000  0.637877  0.959100   0.0   \n",
       "\n",
       "        key     tempo  time_signature    length  cluster  \n",
       "0  0.090909  0.725315             1.0  0.242947        0  \n",
       "1  0.000000  0.185351             1.0  0.195212        0  \n",
       "2  0.818182  0.389611             1.0  0.270090        1  \n",
       "3  0.454545  0.532431             1.0  0.304242        0  \n",
       "4  0.090909  0.189543             1.0  0.304673        1  "
      ]
     },
     "execution_count": 3,
     "metadata": {},
     "output_type": "execute_result"
    }
   ],
   "source": [
    "full_data.head()"
   ]
  },
  {
   "cell_type": "code",
   "execution_count": 4,
   "metadata": {},
   "outputs": [
    {
     "data": {
      "text/plain": [
       "Index(['track_id', 'track_name', 'album_name', 'artist_name', 'genres',\n",
       "       'popularity', 'danceability', 'loudness', 'speechiness', 'acousticness',\n",
       "       'liveness', 'instrumentalness', 'energy', 'valence', 'mode', 'key',\n",
       "       'tempo', 'time_signature', 'length', 'cluster'],\n",
       "      dtype='object')"
      ]
     },
     "execution_count": 4,
     "metadata": {},
     "output_type": "execute_result"
    }
   ],
   "source": [
    "full_data.columns"
   ]
  },
  {
   "cell_type": "markdown",
   "metadata": {},
   "source": [
    "## Feature Selection"
   ]
  },
  {
   "cell_type": "code",
   "execution_count": 5,
   "metadata": {},
   "outputs": [],
   "source": [
    "song_data = full_data[['track_id', 'track_name', 'artist_name', 'genres', 'popularity']]"
   ]
  },
  {
   "cell_type": "code",
   "execution_count": 6,
   "metadata": {
    "execution": {
     "iopub.execute_input": "2022-10-31T18:44:12.892750Z",
     "iopub.status.busy": "2022-10-31T18:44:12.892338Z",
     "iopub.status.idle": "2022-10-31T18:44:12.918360Z",
     "shell.execute_reply": "2022-10-31T18:44:12.917516Z",
     "shell.execute_reply.started": "2022-10-31T18:44:12.892695Z"
    },
    "id": "Clp4WedccK3d"
   },
   "outputs": [
    {
     "data": {
      "text/html": [
       "<div>\n",
       "<style scoped>\n",
       "    .dataframe tbody tr th:only-of-type {\n",
       "        vertical-align: middle;\n",
       "    }\n",
       "\n",
       "    .dataframe tbody tr th {\n",
       "        vertical-align: top;\n",
       "    }\n",
       "\n",
       "    .dataframe thead th {\n",
       "        text-align: right;\n",
       "    }\n",
       "</style>\n",
       "<table border=\"1\" class=\"dataframe\">\n",
       "  <thead>\n",
       "    <tr style=\"text-align: right;\">\n",
       "      <th></th>\n",
       "      <th>track_id</th>\n",
       "      <th>track_name</th>\n",
       "      <th>artist_name</th>\n",
       "      <th>genres</th>\n",
       "      <th>popularity</th>\n",
       "    </tr>\n",
       "  </thead>\n",
       "  <tbody>\n",
       "    <tr>\n",
       "      <th>0</th>\n",
       "      <td>0VjIjW4GlUZAMYd2vXMi3b</td>\n",
       "      <td>Blinding Lights</td>\n",
       "      <td>The Weeknd</td>\n",
       "      <td>cheerful</td>\n",
       "      <td>1.000000</td>\n",
       "    </tr>\n",
       "    <tr>\n",
       "      <th>1</th>\n",
       "      <td>6UelLqGlWMcVH1E5c4H7lY</td>\n",
       "      <td>Watermelon Sugar</td>\n",
       "      <td>Harry Styles</td>\n",
       "      <td>cheerful</td>\n",
       "      <td>0.977011</td>\n",
       "    </tr>\n",
       "    <tr>\n",
       "      <th>2</th>\n",
       "      <td>7ef4DlsgrMEH11cDZd32M6</td>\n",
       "      <td>One Kiss (with Dua Lipa)</td>\n",
       "      <td>Calvin Harris</td>\n",
       "      <td>sombre</td>\n",
       "      <td>0.965517</td>\n",
       "    </tr>\n",
       "    <tr>\n",
       "      <th>3</th>\n",
       "      <td>3w3y8KPTfNeOKPiqUTakBh</td>\n",
       "      <td>Locked out of Heaven</td>\n",
       "      <td>Bruno Mars</td>\n",
       "      <td>cheerful</td>\n",
       "      <td>0.954023</td>\n",
       "    </tr>\n",
       "    <tr>\n",
       "      <th>4</th>\n",
       "      <td>7qiZfU4dY1lWllzX7mPBI3</td>\n",
       "      <td>Shape of You</td>\n",
       "      <td>Ed Sheeran</td>\n",
       "      <td>sombre</td>\n",
       "      <td>0.954023</td>\n",
       "    </tr>\n",
       "  </tbody>\n",
       "</table>\n",
       "</div>"
      ],
      "text/plain": [
       "                 track_id                track_name    artist_name    genres  \\\n",
       "0  0VjIjW4GlUZAMYd2vXMi3b           Blinding Lights     The Weeknd  cheerful   \n",
       "1  6UelLqGlWMcVH1E5c4H7lY          Watermelon Sugar   Harry Styles  cheerful   \n",
       "2  7ef4DlsgrMEH11cDZd32M6  One Kiss (with Dua Lipa)  Calvin Harris    sombre   \n",
       "3  3w3y8KPTfNeOKPiqUTakBh      Locked out of Heaven     Bruno Mars  cheerful   \n",
       "4  7qiZfU4dY1lWllzX7mPBI3              Shape of You     Ed Sheeran    sombre   \n",
       "\n",
       "   popularity  \n",
       "0    1.000000  \n",
       "1    0.977011  \n",
       "2    0.965517  \n",
       "3    0.954023  \n",
       "4    0.954023  "
      ]
     },
     "execution_count": 6,
     "metadata": {},
     "output_type": "execute_result"
    }
   ],
   "source": [
    "song_data.head()"
   ]
  },
  {
   "cell_type": "markdown",
   "metadata": {},
   "source": [
    "## Feature Analyzing"
   ]
  },
  {
   "cell_type": "code",
   "execution_count": 7,
   "metadata": {
    "execution": {
     "iopub.execute_input": "2022-10-31T18:44:13.076155Z",
     "iopub.status.busy": "2022-10-31T18:44:13.075871Z",
     "iopub.status.idle": "2022-10-31T18:44:13.085288Z",
     "shell.execute_reply": "2022-10-31T18:44:13.084195Z",
     "shell.execute_reply.started": "2022-10-31T18:44:13.076128Z"
    },
    "id": "j0Dqm_PccK3d"
   },
   "outputs": [
    {
     "data": {
      "text/plain": [
       "cheerful    154\n",
       "sombre       80\n",
       "Name: genres, dtype: int64"
      ]
     },
     "execution_count": 7,
     "metadata": {},
     "output_type": "execute_result"
    }
   ],
   "source": [
    "song_data['genres'].value_counts()"
   ]
  },
  {
   "cell_type": "code",
   "execution_count": 8,
   "metadata": {
    "execution": {
     "iopub.execute_input": "2022-10-31T18:44:13.259742Z",
     "iopub.status.busy": "2022-10-31T18:44:13.259464Z",
     "iopub.status.idle": "2022-10-31T18:44:13.269393Z",
     "shell.execute_reply": "2022-10-31T18:44:13.268362Z",
     "shell.execute_reply.started": "2022-10-31T18:44:13.259710Z"
    },
    "id": "UzlWiV9AcK3e"
   },
   "outputs": [
    {
     "data": {
      "text/plain": [
       "Text(0, 0.5, 'count')"
      ]
     },
     "execution_count": 8,
     "metadata": {},
     "output_type": "execute_result"
    },
    {
     "data": {
      "image/png": "[encoded data removed]",
      "text/plain": [
       "<Figure size 432x288 with 1 Axes>"
      ]
     },
     "metadata": {
      "needs_background": "light"
     },
     "output_type": "display_data"
    }
   ],
   "source": [
    "plt.hist(song_data['popularity'], bins=20)\n",
    "plt.xlabel('popularity')\n",
    "plt.ylabel('count')"
   ]
  },
  {
   "cell_type": "markdown",
   "metadata": {},
   "source": [
    "## Music Player"
   ]
  },
  {
   "cell_type": "code",
   "execution_count": 9,
   "metadata": {
    "execution": {
     "iopub.execute_input": "2022-10-31T18:44:14.922330Z",
     "iopub.status.busy": "2022-10-31T18:44:14.921634Z",
     "iopub.status.idle": "2022-10-31T18:44:14.939284Z",
     "shell.execute_reply": "2022-10-31T18:44:14.938370Z",
     "shell.execute_reply.started": "2022-10-31T18:44:14.922287Z"
    },
    "id": "_wFUR5WCcK3e"
   },
   "outputs": [
    {
     "data": {
      "text/html": [
       "<div>\n",
       "<style scoped>\n",
       "    .dataframe tbody tr th:only-of-type {\n",
       "        vertical-align: middle;\n",
       "    }\n",
       "\n",
       "    .dataframe tbody tr th {\n",
       "        vertical-align: top;\n",
       "    }\n",
       "\n",
       "    .dataframe thead th {\n",
       "        text-align: right;\n",
       "    }\n",
       "</style>\n",
       "<table border=\"1\" class=\"dataframe\">\n",
       "  <thead>\n",
       "    <tr style=\"text-align: right;\">\n",
       "      <th></th>\n",
       "      <th>track_id</th>\n",
       "      <th>track_name</th>\n",
       "    </tr>\n",
       "  </thead>\n",
       "  <tbody>\n",
       "    <tr>\n",
       "      <th>0</th>\n",
       "      <td>7ef4DlsgrMEH11cDZd32M6</td>\n",
       "      <td>One Kiss (with Dua Lipa)</td>\n",
       "    </tr>\n",
       "    <tr>\n",
       "      <th>1</th>\n",
       "      <td>7JJmb5XwzOO8jgpou264Ml</td>\n",
       "      <td>There's Nothing Holdin' Me Back</td>\n",
       "    </tr>\n",
       "    <tr>\n",
       "      <th>2</th>\n",
       "      <td>7qiZfU4dY1lWllzX7mPBI3</td>\n",
       "      <td>Shape of You</td>\n",
       "    </tr>\n",
       "    <tr>\n",
       "      <th>3</th>\n",
       "      <td>1mea3bSkSGXuIRvnydlB5b</td>\n",
       "      <td>Viva La Vida</td>\n",
       "    </tr>\n",
       "    <tr>\n",
       "      <th>4</th>\n",
       "      <td>3ZFTkvIE7kyPt6Nu3PEa7V</td>\n",
       "      <td>Hips Don't Lie (feat. Wyclef Jean)</td>\n",
       "    </tr>\n",
       "    <tr>\n",
       "      <th>5</th>\n",
       "      <td>2qxmye6gAegTMjLKEBoR3d</td>\n",
       "      <td>Let Me Down Slowly</td>\n",
       "    </tr>\n",
       "    <tr>\n",
       "      <th>6</th>\n",
       "      <td>3GVkPk8mqxz0itaAriG1L7</td>\n",
       "      <td>Everybody Dies In Their Nightmares</td>\n",
       "    </tr>\n",
       "    <tr>\n",
       "      <th>7</th>\n",
       "      <td>3ZCTVFBt2Brf31RLEnCkWJ</td>\n",
       "      <td>everything i wanted</td>\n",
       "    </tr>\n",
       "    <tr>\n",
       "      <th>8</th>\n",
       "      <td>6RUKPb4LETWmmr3iAEQktW</td>\n",
       "      <td>Something Just Like This</td>\n",
       "    </tr>\n",
       "    <tr>\n",
       "      <th>9</th>\n",
       "      <td>7m9OqQk4RVRkw9JJdeAw96</td>\n",
       "      <td>Jocelyn Flores</td>\n",
       "    </tr>\n",
       "  </tbody>\n",
       "</table>\n",
       "</div>"
      ],
      "text/plain": [
       "                 track_id                          track_name\n",
       "0  7ef4DlsgrMEH11cDZd32M6            One Kiss (with Dua Lipa)\n",
       "1  7JJmb5XwzOO8jgpou264Ml     There's Nothing Holdin' Me Back\n",
       "2  7qiZfU4dY1lWllzX7mPBI3                        Shape of You\n",
       "3  1mea3bSkSGXuIRvnydlB5b                        Viva La Vida\n",
       "4  3ZFTkvIE7kyPt6Nu3PEa7V  Hips Don't Lie (feat. Wyclef Jean)\n",
       "5  2qxmye6gAegTMjLKEBoR3d                  Let Me Down Slowly\n",
       "6  3GVkPk8mqxz0itaAriG1L7  Everybody Dies In Their Nightmares\n",
       "7  3ZCTVFBt2Brf31RLEnCkWJ                 everything i wanted\n",
       "8  6RUKPb4LETWmmr3iAEQktW            Something Just Like This\n",
       "9  7m9OqQk4RVRkw9JJdeAw96                      Jocelyn Flores"
      ]
     },
     "metadata": {},
     "output_type": "display_data"
    }
   ],
   "source": [
    "Play = song_data[song_data['genres'] =='sombre']\n",
    "\n",
    "Play = Play.sort_values(by=\"popularity\", ascending=False)\n",
    "\n",
    "Play = Play[['track_id','track_name']][:10].reset_index(drop=True)\n",
    "\n",
    "display(Play)"
   ]
  },
  {
   "cell_type": "code",
   "execution_count": 10,
   "metadata": {},
   "outputs": [
    {
     "data": {
      "text/html": [
       "<div>\n",
       "<style scoped>\n",
       "    .dataframe tbody tr th:only-of-type {\n",
       "        vertical-align: middle;\n",
       "    }\n",
       "\n",
       "    .dataframe tbody tr th {\n",
       "        vertical-align: top;\n",
       "    }\n",
       "\n",
       "    .dataframe thead th {\n",
       "        text-align: right;\n",
       "    }\n",
       "</style>\n",
       "<table border=\"1\" class=\"dataframe\">\n",
       "  <thead>\n",
       "    <tr style=\"text-align: right;\">\n",
       "      <th></th>\n",
       "      <th>track_id</th>\n",
       "      <th>track_name</th>\n",
       "    </tr>\n",
       "  </thead>\n",
       "  <tbody>\n",
       "    <tr>\n",
       "      <th>0</th>\n",
       "      <td>0VjIjW4GlUZAMYd2vXMi3b</td>\n",
       "      <td>Blinding Lights</td>\n",
       "    </tr>\n",
       "    <tr>\n",
       "      <th>1</th>\n",
       "      <td>6UelLqGlWMcVH1E5c4H7lY</td>\n",
       "      <td>Watermelon Sugar</td>\n",
       "    </tr>\n",
       "    <tr>\n",
       "      <th>2</th>\n",
       "      <td>3w3y8KPTfNeOKPiqUTakBh</td>\n",
       "      <td>Locked out of Heaven</td>\n",
       "    </tr>\n",
       "    <tr>\n",
       "      <th>3</th>\n",
       "      <td>4RVwu0g32PAqgUiJoXsdF8</td>\n",
       "      <td>Happier Than Ever</td>\n",
       "    </tr>\n",
       "    <tr>\n",
       "      <th>4</th>\n",
       "      <td>1HNkqx9Ahdgi1Ixy2xkKkL</td>\n",
       "      <td>Photograph</td>\n",
       "    </tr>\n",
       "    <tr>\n",
       "      <th>5</th>\n",
       "      <td>1zi7xx7UVEFkmKfv06H8x0</td>\n",
       "      <td>One Dance</td>\n",
       "    </tr>\n",
       "    <tr>\n",
       "      <th>6</th>\n",
       "      <td>0ct6r3EGTcMLPtrXHDvVjc</td>\n",
       "      <td>The Nights</td>\n",
       "    </tr>\n",
       "    <tr>\n",
       "      <th>7</th>\n",
       "      <td>6qn9YLKt13AGvpq9jfO8py</td>\n",
       "      <td>We Found Love</td>\n",
       "    </tr>\n",
       "    <tr>\n",
       "      <th>8</th>\n",
       "      <td>0gplL1WMoJ6iYaPgMCL0gX</td>\n",
       "      <td>Easy On Me</td>\n",
       "    </tr>\n",
       "    <tr>\n",
       "      <th>9</th>\n",
       "      <td>75JFxkI2RXiU7L9VXzMkle</td>\n",
       "      <td>The Scientist</td>\n",
       "    </tr>\n",
       "  </tbody>\n",
       "</table>\n",
       "</div>"
      ],
      "text/plain": [
       "                 track_id            track_name\n",
       "0  0VjIjW4GlUZAMYd2vXMi3b       Blinding Lights\n",
       "1  6UelLqGlWMcVH1E5c4H7lY      Watermelon Sugar\n",
       "2  3w3y8KPTfNeOKPiqUTakBh  Locked out of Heaven\n",
       "3  4RVwu0g32PAqgUiJoXsdF8     Happier Than Ever\n",
       "4  1HNkqx9Ahdgi1Ixy2xkKkL            Photograph\n",
       "5  1zi7xx7UVEFkmKfv06H8x0             One Dance\n",
       "6  0ct6r3EGTcMLPtrXHDvVjc            The Nights\n",
       "7  6qn9YLKt13AGvpq9jfO8py         We Found Love\n",
       "8  0gplL1WMoJ6iYaPgMCL0gX            Easy On Me\n",
       "9  75JFxkI2RXiU7L9VXzMkle         The Scientist"
      ]
     },
     "metadata": {},
     "output_type": "display_data"
    }
   ],
   "source": [
    "Play = song_data[song_data['genres'] =='cheerful']\n",
    "\n",
    "Play = Play.sort_values(by=\"popularity\", ascending=False)\n",
    "\n",
    "Play = Play[['track_id','track_name']][:10].reset_index(drop=True)\n",
    "\n",
    "display(Play)"
   ]
  },
  {
   "cell_type": "markdown",
   "metadata": {},
   "source": [
    "## Storing the data to database"
   ]
  },
  {
   "cell_type": "code",
   "execution_count": 11,
   "metadata": {},
   "outputs": [],
   "source": [
    "conn = sqlite3.connect('songs.sqlite')"
   ]
  },
  {
   "cell_type": "code",
   "execution_count": 12,
   "metadata": {},
   "outputs": [],
   "source": [
    "table_name = 'songs'"
   ]
  },
  {
   "cell_type": "code",
   "execution_count": 13,
   "metadata": {},
   "outputs": [],
   "source": [
    "query = f'Create table if not Exists {table_name} (track_id TEXT, track_name TEXT, artist_name TEXT, genres TEXT, popularity REAL)'"
   ]
  },
  {
   "cell_type": "code",
   "execution_count": 14,
   "metadata": {},
   "outputs": [
    {
     "data": {
      "text/plain": [
       "<sqlite3.Cursor at 0x216ba9e8650>"
      ]
     },
     "execution_count": 14,
     "metadata": {},
     "output_type": "execute_result"
    }
   ],
   "source": [
    "conn.execute(query)"
   ]
  },
  {
   "cell_type": "code",
   "execution_count": 15,
   "metadata": {},
   "outputs": [
    {
     "data": {
      "text/plain": [
       "234"
      ]
     },
     "execution_count": 15,
     "metadata": {},
     "output_type": "execute_result"
    }
   ],
   "source": [
    "song_data.to_sql(table_name, conn, if_exists='replace', index=False)"
   ]
  },
  {
   "cell_type": "markdown",
   "metadata": {},
   "source": [
    "## Retrieve dataframe from the SQLite table"
   ]
  },
  {
   "cell_type": "code",
   "execution_count": 16,
   "metadata": {},
   "outputs": [],
   "source": [
    "data = pd.read_sql(\"select * from songs\", conn)"
   ]
  },
  {
   "cell_type": "code",
   "execution_count": 17,
   "metadata": {},
   "outputs": [
    {
     "data": {
      "text/html": [
       "<div>\n",
       "<style scoped>\n",
       "    .dataframe tbody tr th:only-of-type {\n",
       "        vertical-align: middle;\n",
       "    }\n",
       "\n",
       "    .dataframe tbody tr th {\n",
       "        vertical-align: top;\n",
       "    }\n",
       "\n",
       "    .dataframe thead th {\n",
       "        text-align: right;\n",
       "    }\n",
       "</style>\n",
       "<table border=\"1\" class=\"dataframe\">\n",
       "  <thead>\n",
       "    <tr style=\"text-align: right;\">\n",
       "      <th></th>\n",
       "      <th>track_id</th>\n",
       "      <th>track_name</th>\n",
       "      <th>artist_name</th>\n",
       "      <th>genres</th>\n",
       "      <th>popularity</th>\n",
       "    </tr>\n",
       "  </thead>\n",
       "  <tbody>\n",
       "    <tr>\n",
       "      <th>0</th>\n",
       "      <td>0VjIjW4GlUZAMYd2vXMi3b</td>\n",
       "      <td>Blinding Lights</td>\n",
       "      <td>The Weeknd</td>\n",
       "      <td>cheerful</td>\n",
       "      <td>1.000000</td>\n",
       "    </tr>\n",
       "    <tr>\n",
       "      <th>1</th>\n",
       "      <td>6UelLqGlWMcVH1E5c4H7lY</td>\n",
       "      <td>Watermelon Sugar</td>\n",
       "      <td>Harry Styles</td>\n",
       "      <td>cheerful</td>\n",
       "      <td>0.977011</td>\n",
       "    </tr>\n",
       "    <tr>\n",
       "      <th>2</th>\n",
       "      <td>7ef4DlsgrMEH11cDZd32M6</td>\n",
       "      <td>One Kiss (with Dua Lipa)</td>\n",
       "      <td>Calvin Harris</td>\n",
       "      <td>sombre</td>\n",
       "      <td>0.965517</td>\n",
       "    </tr>\n",
       "    <tr>\n",
       "      <th>3</th>\n",
       "      <td>3w3y8KPTfNeOKPiqUTakBh</td>\n",
       "      <td>Locked out of Heaven</td>\n",
       "      <td>Bruno Mars</td>\n",
       "      <td>cheerful</td>\n",
       "      <td>0.954023</td>\n",
       "    </tr>\n",
       "    <tr>\n",
       "      <th>4</th>\n",
       "      <td>7qiZfU4dY1lWllzX7mPBI3</td>\n",
       "      <td>Shape of You</td>\n",
       "      <td>Ed Sheeran</td>\n",
       "      <td>sombre</td>\n",
       "      <td>0.954023</td>\n",
       "    </tr>\n",
       "  </tbody>\n",
       "</table>\n",
       "</div>"
      ],
      "text/plain": [
       "                 track_id                track_name    artist_name    genres  \\\n",
       "0  0VjIjW4GlUZAMYd2vXMi3b           Blinding Lights     The Weeknd  cheerful   \n",
       "1  6UelLqGlWMcVH1E5c4H7lY          Watermelon Sugar   Harry Styles  cheerful   \n",
       "2  7ef4DlsgrMEH11cDZd32M6  One Kiss (with Dua Lipa)  Calvin Harris    sombre   \n",
       "3  3w3y8KPTfNeOKPiqUTakBh      Locked out of Heaven     Bruno Mars  cheerful   \n",
       "4  7qiZfU4dY1lWllzX7mPBI3              Shape of You     Ed Sheeran    sombre   \n",
       "\n",
       "   popularity  \n",
       "0    1.000000  \n",
       "1    0.977011  \n",
       "2    0.965517  \n",
       "3    0.954023  \n",
       "4    0.954023  "
      ]
     },
     "execution_count": 17,
     "metadata": {},
     "output_type": "execute_result"
    }
   ],
   "source": [
    "data.head()"
   ]
  },
  {
   "cell_type": "code",
   "execution_count": 18,
   "metadata": {},
   "outputs": [],
   "source": [
    "conn.commit()\n",
    "conn.close()"
   ]
  },
  {
   "cell_type": "code",
   "execution_count": 19,
   "metadata": {},
   "outputs": [],
   "source": [
    "data.to_csv('data/spotify_data/songs.csv', sep=',', index=False)"
   ]
  },
  {
   "cell_type": "markdown",
   "metadata": {},
   "source": [
    "`Stored the data in the database`"
   ]
  }
 ],
 "metadata": {
  "accelerator": "GPU",
  "colab": {
   "collapsed_sections": [
    "ZJEY6DRjcK3J",
    "9-KBB9vecK3a",
    "itHZWvvzcK3d"
   ],
   "provenance": []
  },
  "kernelspec": {
   "display_name": "Python 3 (ipykernel)",
   "language": "python",
   "name": "python3"
  },
  "language_info": {
   "codemirror_mode": {
    "name": "ipython",
    "version": 3
   },
   "file_extension": ".py",
   "mimetype": "text/x-python",
   "name": "python",
   "nbconvert_exporter": "python",
   "pygments_lexer": "ipython3",
   "version": "3.9.12"
  }
 },
 "nbformat": 4,
 "nbformat_minor": 4
}
