{
  "cells": [
    {
      "cell_type": "markdown",
      "id": "63ee3202",
      "metadata": {
        "id": "63ee3202"
      },
      "source": [
        "# FER with ResNet50"
      ]
    },
    {
      "cell_type": "code",
      "execution_count": 1,
      "id": "skR7-j3m32Ay",
      "metadata": {
        "colab": {
          "base_uri": "https://localhost:8080/"
        },
        "id": "skR7-j3m32Ay",
        "outputId": "93d3ddaa-69e1-4469-f564-7872223dfa42"
      },
      "outputs": [
        {
          "output_type": "stream",
          "name": "stdout",
          "text": [
            "Found GPU at: /device:GPU:0\n"
          ]
        }
      ],
      "source": [
        "import tensorflow as tf\n",
        "device_name = tf.test.gpu_device_name()\n",
        "if device_name != '/device:GPU:0':\n",
        "    raise SystemError('GPU device not found')\n",
        "print('Found GPU at: {}'.format(device_name))"
      ]
    },
    {
      "cell_type": "markdown",
      "id": "bf5e731a",
      "metadata": {
        "id": "bf5e731a"
      },
      "source": [
        "## Imports"
      ]
    },
    {
      "cell_type": "code",
      "execution_count": 2,
      "id": "35646c77",
      "metadata": {
        "id": "35646c77"
      },
      "outputs": [],
      "source": [
        "import warnings\n",
        "warnings.filterwarnings(\"ignore\")\n",
        "\n",
        "import numpy as np\n",
        "import pandas as pd\n",
        "\n",
        "import seaborn as sns\n",
        "sns.set_theme(style=\"whitegrid\")\n",
        "\n",
        "import matplotlib.pyplot as plt\n",
        "%matplotlib inline\n",
        "\n",
        "from sklearn.model_selection import train_test_split\n",
        "\n",
        "import tensorflow as tf\n",
        "from tensorflow.keras.applications import ResNet50\n",
        "from tensorflow.keras.models import Sequential\n",
        "from tensorflow.keras.layers import Dense\n",
        "\n",
        "from sklearn.metrics import *"
      ]
    },
    {
      "cell_type": "markdown",
      "id": "6fac3698",
      "metadata": {
        "id": "6fac3698"
      },
      "source": [
        "## Data"
      ]
    },
    {
      "cell_type": "code",
      "execution_count": 3,
      "id": "1Ev7Q5oP4F_q",
      "metadata": {
        "colab": {
          "base_uri": "https://localhost:8080/"
        },
        "id": "1Ev7Q5oP4F_q",
        "outputId": "8f4f63da-59a0-4e0a-9b4e-7f5a6c747c79"
      },
      "outputs": [
        {
          "output_type": "stream",
          "name": "stdout",
          "text": [
            "Mounted at /content/drive\n"
          ]
        }
      ],
      "source": [
        "from google.colab import drive\n",
        "drive.mount('/content/drive')"
      ]
    },
    {
      "cell_type": "code",
      "execution_count": 4,
      "id": "ab98fbac",
      "metadata": {
        "id": "ab98fbac"
      },
      "outputs": [],
      "source": [
        "df = pd.read_csv('/content/drive/MyDrive/fer.csv')"
      ]
    },
    {
      "cell_type": "markdown",
      "id": "0e5204cd",
      "metadata": {
        "id": "0e5204cd"
      },
      "source": [
        "## EDA"
      ]
    },
    {
      "cell_type": "code",
      "execution_count": 5,
      "id": "29c567c1",
      "metadata": {
        "colab": {
          "base_uri": "https://localhost:8080/",
          "height": 206
        },
        "id": "29c567c1",
        "outputId": "28de4861-cc99-4b48-f01e-388e698ed207"
      },
      "outputs": [
        {
          "output_type": "execute_result",
          "data": {
            "text/plain": [
              "   emotion                                             pixels\n",
              "0        1  204 206 200 104 71 77 112 170 193 204 218 223 ...\n",
              "1        1  19 21 27 28 33 29 41 37 24 31 42 45 48 62 63 7...\n",
              "2        1  223 245 233 243 243 243 244 244 248 245 218 21...\n",
              "3        1  119 30 120 166 119 101 108 91 51 58 68 82 100 ...\n",
              "4        1  76 93 103 96 99 103 103 120 134 138 149 150 14..."
            ],
            "text/html": [
              "\n",
              "  <div id=\"df-02f0b159-e87e-4003-97f7-d014e1495637\">\n",
              "    <div class=\"colab-df-container\">\n",
              "      <div>\n",
              "<style scoped>\n",
              "    .dataframe tbody tr th:only-of-type {\n",
              "        vertical-align: middle;\n",
              "    }\n",
              "\n",
              "    .dataframe tbody tr th {\n",
              "        vertical-align: top;\n",
              "    }\n",
              "\n",
              "    .dataframe thead th {\n",
              "        text-align: right;\n",
              "    }\n",
              "</style>\n",
              "<table border=\"1\" class=\"dataframe\">\n",
              "  <thead>\n",
              "    <tr style=\"text-align: right;\">\n",
              "      <th></th>\n",
              "      <th>emotion</th>\n",
              "      <th>pixels</th>\n",
              "    </tr>\n",
              "  </thead>\n",
              "  <tbody>\n",
              "    <tr>\n",
              "      <th>0</th>\n",
              "      <td>1</td>\n",
              "      <td>204 206 200 104 71 77 112 170 193 204 218 223 ...</td>\n",
              "    </tr>\n",
              "    <tr>\n",
              "      <th>1</th>\n",
              "      <td>1</td>\n",
              "      <td>19 21 27 28 33 29 41 37 24 31 42 45 48 62 63 7...</td>\n",
              "    </tr>\n",
              "    <tr>\n",
              "      <th>2</th>\n",
              "      <td>1</td>\n",
              "      <td>223 245 233 243 243 243 244 244 248 245 218 21...</td>\n",
              "    </tr>\n",
              "    <tr>\n",
              "      <th>3</th>\n",
              "      <td>1</td>\n",
              "      <td>119 30 120 166 119 101 108 91 51 58 68 82 100 ...</td>\n",
              "    </tr>\n",
              "    <tr>\n",
              "      <th>4</th>\n",
              "      <td>1</td>\n",
              "      <td>76 93 103 96 99 103 103 120 134 138 149 150 14...</td>\n",
              "    </tr>\n",
              "  </tbody>\n",
              "</table>\n",
              "</div>\n",
              "      <button class=\"colab-df-convert\" onclick=\"convertToInteractive('df-02f0b159-e87e-4003-97f7-d014e1495637')\"\n",
              "              title=\"Convert this dataframe to an interactive table.\"\n",
              "              style=\"display:none;\">\n",
              "        \n",
              "  <svg xmlns=\"http://www.w3.org/2000/svg\" height=\"24px\"viewBox=\"0 0 24 24\"\n",
              "       width=\"24px\">\n",
              "    <path d=\"M0 0h24v24H0V0z\" fill=\"none\"/>\n",
              "    <path d=\"M18.56 5.44l.94 2.06.94-2.06 2.06-.94-2.06-.94-.94-2.06-.94 2.06-2.06.94zm-11 1L8.5 8.5l.94-2.06 2.06-.94-2.06-.94L8.5 2.5l-.94 2.06-2.06.94zm10 10l.94 2.06.94-2.06 2.06-.94-2.06-.94-.94-2.06-.94 2.06-2.06.94z\"/><path d=\"M17.41 7.96l-1.37-1.37c-.4-.4-.92-.59-1.43-.59-.52 0-1.04.2-1.43.59L10.3 9.45l-7.72 7.72c-.78.78-.78 2.05 0 2.83L4 21.41c.39.39.9.59 1.41.59.51 0 1.02-.2 1.41-.59l7.78-7.78 2.81-2.81c.8-.78.8-2.07 0-2.86zM5.41 20L4 18.59l7.72-7.72 1.47 1.35L5.41 20z\"/>\n",
              "  </svg>\n",
              "      </button>\n",
              "      \n",
              "  <style>\n",
              "    .colab-df-container {\n",
              "      display:flex;\n",
              "      flex-wrap:wrap;\n",
              "      gap: 12px;\n",
              "    }\n",
              "\n",
              "    .colab-df-convert {\n",
              "      background-color: #E8F0FE;\n",
              "      border: none;\n",
              "      border-radius: 50%;\n",
              "      cursor: pointer;\n",
              "      display: none;\n",
              "      fill: #1967D2;\n",
              "      height: 32px;\n",
              "      padding: 0 0 0 0;\n",
              "      width: 32px;\n",
              "    }\n",
              "\n",
              "    .colab-df-convert:hover {\n",
              "      background-color: #E2EBFA;\n",
              "      box-shadow: 0px 1px 2px rgba(60, 64, 67, 0.3), 0px 1px 3px 1px rgba(60, 64, 67, 0.15);\n",
              "      fill: #174EA6;\n",
              "    }\n",
              "\n",
              "    [theme=dark] .colab-df-convert {\n",
              "      background-color: #3B4455;\n",
              "      fill: #D2E3FC;\n",
              "    }\n",
              "\n",
              "    [theme=dark] .colab-df-convert:hover {\n",
              "      background-color: #434B5C;\n",
              "      box-shadow: 0px 1px 3px 1px rgba(0, 0, 0, 0.15);\n",
              "      filter: drop-shadow(0px 1px 2px rgba(0, 0, 0, 0.3));\n",
              "      fill: #FFFFFF;\n",
              "    }\n",
              "  </style>\n",
              "\n",
              "      <script>\n",
              "        const buttonEl =\n",
              "          document.querySelector('#df-02f0b159-e87e-4003-97f7-d014e1495637 button.colab-df-convert');\n",
              "        buttonEl.style.display =\n",
              "          google.colab.kernel.accessAllowed ? 'block' : 'none';\n",
              "\n",
              "        async function convertToInteractive(key) {\n",
              "          const element = document.querySelector('#df-02f0b159-e87e-4003-97f7-d014e1495637');\n",
              "          const dataTable =\n",
              "            await google.colab.kernel.invokeFunction('convertToInteractive',\n",
              "                                                     [key], {});\n",
              "          if (!dataTable) return;\n",
              "\n",
              "          const docLinkHtml = 'Like what you see? Visit the ' +\n",
              "            '<a target=\"_blank\" href=https://colab.research.google.com/notebooks/data_table.ipynb>data table notebook</a>'\n",
              "            + ' to learn more about interactive tables.';\n",
              "          element.innerHTML = '';\n",
              "          dataTable['output_type'] = 'display_data';\n",
              "          await google.colab.output.renderOutput(dataTable, element);\n",
              "          const docLink = document.createElement('div');\n",
              "          docLink.innerHTML = docLinkHtml;\n",
              "          element.appendChild(docLink);\n",
              "        }\n",
              "      </script>\n",
              "    </div>\n",
              "  </div>\n",
              "  "
            ]
          },
          "metadata": {},
          "execution_count": 5
        }
      ],
      "source": [
        "df.head()"
      ]
    },
    {
      "cell_type": "code",
      "execution_count": 6,
      "id": "3c64cee0",
      "metadata": {
        "colab": {
          "base_uri": "https://localhost:8080/"
        },
        "id": "3c64cee0",
        "outputId": "550739fe-b948-41ca-ba6e-bd40707ce3d5"
      },
      "outputs": [
        {
          "output_type": "execute_result",
          "data": {
            "text/plain": [
              "(17978, 2)"
            ]
          },
          "metadata": {},
          "execution_count": 6
        }
      ],
      "source": [
        "df.shape"
      ]
    },
    {
      "cell_type": "code",
      "execution_count": 7,
      "id": "da741b1f",
      "metadata": {
        "colab": {
          "base_uri": "https://localhost:8080/"
        },
        "id": "da741b1f",
        "outputId": "ab9e0096-4026-4ee3-aa96-e6e9492a7b62"
      },
      "outputs": [
        {
          "output_type": "stream",
          "name": "stdout",
          "text": [
            "<class 'pandas.core.frame.DataFrame'>\n",
            "RangeIndex: 17978 entries, 0 to 17977\n",
            "Data columns (total 2 columns):\n",
            " #   Column   Non-Null Count  Dtype \n",
            "---  ------   --------------  ----- \n",
            " 0   emotion  17978 non-null  int64 \n",
            " 1   pixels   17978 non-null  object\n",
            "dtypes: int64(1), object(1)\n",
            "memory usage: 281.0+ KB\n"
          ]
        }
      ],
      "source": [
        "df.info()"
      ]
    },
    {
      "cell_type": "code",
      "execution_count": 8,
      "id": "d7565511",
      "metadata": {
        "colab": {
          "base_uri": "https://localhost:8080/"
        },
        "id": "d7565511",
        "outputId": "8dcbeeef-9718-405d-d82d-d7b47afb2c94"
      },
      "outputs": [
        {
          "output_type": "execute_result",
          "data": {
            "text/plain": [
              "1    8989\n",
              "0    8989\n",
              "Name: emotion, dtype: int64"
            ]
          },
          "metadata": {},
          "execution_count": 8
        }
      ],
      "source": [
        "df.emotion.value_counts()"
      ]
    },
    {
      "cell_type": "markdown",
      "id": "c21771bb",
      "metadata": {
        "id": "c21771bb"
      },
      "source": [
        "## Pre-processing"
      ]
    },
    {
      "cell_type": "markdown",
      "id": "3-RXHcDnnoRB",
      "metadata": {
        "id": "3-RXHcDnnoRB"
      },
      "source": [
        "### Formatting"
      ]
    },
    {
      "cell_type": "code",
      "execution_count": 9,
      "id": "360a8474",
      "metadata": {
        "id": "360a8474"
      },
      "outputs": [],
      "source": [
        "img_array = df.pixels.apply(lambda x: np.array(x.split(' ')).reshape(48, 48, 1).astype('float32'))\n",
        "img_array = np.stack(img_array, axis=0)"
      ]
    },
    {
      "cell_type": "code",
      "execution_count": 10,
      "id": "4f7bbe38",
      "metadata": {
        "colab": {
          "base_uri": "https://localhost:8080/"
        },
        "id": "4f7bbe38",
        "outputId": "881440ea-5081-44d2-9f35-cdf8e700a21c"
      },
      "outputs": [
        {
          "output_type": "execute_result",
          "data": {
            "text/plain": [
              "(17978, 48, 48, 1)"
            ]
          },
          "metadata": {},
          "execution_count": 10
        }
      ],
      "source": [
        "img_array.shape"
      ]
    },
    {
      "cell_type": "markdown",
      "id": "sNTNdXRQnqTK",
      "metadata": {
        "id": "sNTNdXRQnqTK"
      },
      "source": [
        "### Grayscale to rgb "
      ]
    },
    {
      "cell_type": "code",
      "execution_count": 11,
      "id": "oLEAnlIznebH",
      "metadata": {
        "id": "oLEAnlIznebH"
      },
      "outputs": [],
      "source": [
        "rgb_array = np.repeat(img_array, 3, axis=-1)"
      ]
    },
    {
      "cell_type": "code",
      "execution_count": 12,
      "id": "R3CvL926ngRF",
      "metadata": {
        "colab": {
          "base_uri": "https://localhost:8080/"
        },
        "id": "R3CvL926ngRF",
        "outputId": "ab05d03a-9fbf-43c5-c192-b2873a76d14b"
      },
      "outputs": [
        {
          "output_type": "execute_result",
          "data": {
            "text/plain": [
              "(17978, 48, 48, 3)"
            ]
          },
          "metadata": {},
          "execution_count": 12
        }
      ],
      "source": [
        "rgb_array.shape"
      ]
    },
    {
      "cell_type": "markdown",
      "id": "iQgDV40SzpBI",
      "metadata": {
        "id": "iQgDV40SzpBI"
      },
      "source": [
        "### Formatting label values for model"
      ]
    },
    {
      "cell_type": "code",
      "execution_count": 13,
      "id": "5bfbbf1c",
      "metadata": {
        "id": "5bfbbf1c"
      },
      "outputs": [],
      "source": [
        "img_labels = df.emotion.values"
      ]
    },
    {
      "cell_type": "code",
      "execution_count": 14,
      "id": "d964c669",
      "metadata": {
        "colab": {
          "base_uri": "https://localhost:8080/"
        },
        "id": "d964c669",
        "outputId": "aee29c82-dc2d-4452-d311-4ac745830134"
      },
      "outputs": [
        {
          "output_type": "execute_result",
          "data": {
            "text/plain": [
              "(17978,)"
            ]
          },
          "metadata": {},
          "execution_count": 14
        }
      ],
      "source": [
        "img_labels.shape"
      ]
    },
    {
      "cell_type": "markdown",
      "id": "5d4c81a9",
      "metadata": {
        "id": "5d4c81a9"
      },
      "source": [
        "## Splitting the data into training and testing set"
      ]
    },
    {
      "cell_type": "code",
      "execution_count": 15,
      "id": "819910e4",
      "metadata": {
        "id": "819910e4"
      },
      "outputs": [],
      "source": [
        "X_train, X_test, y_train, y_test = train_test_split(rgb_array, \n",
        "                                                    img_labels,\n",
        "                                                    test_size=0.1, \n",
        "                                                    shuffle=True,\n",
        "                                                    random_state=42)\n",
        "\n",
        "X_train, X_val, y_train, y_val = train_test_split(X_train,\n",
        "                                                  y_train,\n",
        "                                                  test_size=0.1, \n",
        "                                                  random_state=42)"
      ]
    },
    {
      "cell_type": "code",
      "execution_count": 16,
      "id": "1eb667ff",
      "metadata": {
        "colab": {
          "base_uri": "https://localhost:8080/"
        },
        "id": "1eb667ff",
        "outputId": "ae46bfd5-dcf1-4fbe-e300-73ce3d688ce9"
      },
      "outputs": [
        {
          "output_type": "stream",
          "name": "stdout",
          "text": [
            "X_train shape: (14562, 48, 48, 3)\n",
            "y_train shape: (14562,)\n",
            "\n",
            "\n",
            "X_val shape: (1618, 48, 48, 3)\n",
            "y val shape: (1618,)\n",
            "\n",
            "\n",
            "X_test shape: (1798, 48, 48, 3)\n",
            "y_test shape: (1798,)\n"
          ]
        }
      ],
      "source": [
        "print(\"X_train shape: {}\".format(X_train.shape))\n",
        "print(\"y_train shape: {}\".format(y_train.shape))\n",
        "print(\"\\n\")\n",
        "print(\"X_val shape: {}\".format(X_val.shape))\n",
        "print(\"y val shape: {}\".format(y_val.shape))\n",
        "print(\"\\n\")\n",
        "print(\"X_test shape: {}\".format(X_test.shape))\n",
        "print(\"y_test shape: {}\".format(y_test.shape))"
      ]
    },
    {
      "cell_type": "code",
      "execution_count": 17,
      "id": "h5xDeclv9U1d",
      "metadata": {
        "colab": {
          "base_uri": "https://localhost:8080/"
        },
        "id": "h5xDeclv9U1d",
        "outputId": "82286f87-9a9d-498a-ddcc-6ccef96254c3"
      },
      "outputs": [
        {
          "output_type": "stream",
          "name": "stdout",
          "text": [
            "81.0 % of Train set\n",
            "9.0 % of Validation set\n",
            "10.0 % of Test set\n"
          ]
        }
      ],
      "source": [
        "print(np.round(((X_train.shape[0]) / (img_array.shape[0]))*100), \"% of Train set\")\n",
        "print(np.round(((X_val.shape[0]) / (img_array.shape[0]))*100), \"% of Validation set\")\n",
        "print(np.round(((X_test.shape[0]) / (img_array.shape[0]))*100), \"% of Test set\")"
      ]
    },
    {
      "cell_type": "markdown",
      "id": "2970854a",
      "metadata": {
        "id": "2970854a"
      },
      "source": [
        "## Image Properties"
      ]
    },
    {
      "cell_type": "code",
      "execution_count": 18,
      "id": "61014d6b",
      "metadata": {
        "id": "61014d6b"
      },
      "outputs": [],
      "source": [
        "img_width = X_train.shape[1]\n",
        "img_height = X_train.shape[2]\n",
        "img_depth = X_train.shape[3]"
      ]
    },
    {
      "cell_type": "code",
      "execution_count": 19,
      "id": "ee01d12e",
      "metadata": {
        "colab": {
          "base_uri": "https://localhost:8080/"
        },
        "id": "ee01d12e",
        "outputId": "9523b344-c200-484f-8c29-77dc24dfc04c"
      },
      "outputs": [
        {
          "output_type": "stream",
          "name": "stdout",
          "text": [
            "The following are the image properties :\n",
            "   Width = 48\n",
            "   Height = 48\n",
            "   Depth = 3\n"
          ]
        }
      ],
      "source": [
        "print(\"The following are the image properties :\")\n",
        "print(\"   Width =\", img_width)\n",
        "print(\"   Height =\", img_height)\n",
        "print(\"   Depth =\", img_depth)"
      ]
    },
    {
      "cell_type": "markdown",
      "id": "c4e737a4",
      "metadata": {
        "id": "c4e737a4"
      },
      "source": [
        "\n",
        "## Normalization"
      ]
    },
    {
      "cell_type": "code",
      "execution_count": 20,
      "id": "kVk_L9Wd_oiA",
      "metadata": {
        "id": "kVk_L9Wd_oiA"
      },
      "outputs": [],
      "source": [
        "X_train = X_train / 255.\n",
        "\n",
        "X_val = X_val / 255.\n",
        "\n",
        "X_test = X_test / 255."
      ]
    },
    {
      "cell_type": "markdown",
      "id": "njX24ImMolsz",
      "metadata": {
        "id": "njX24ImMolsz"
      },
      "source": [
        "## ResNet-50"
      ]
    },
    {
      "cell_type": "code",
      "execution_count": 21,
      "id": "ncu8KSRcozpJ",
      "metadata": {
        "colab": {
          "base_uri": "https://localhost:8080/"
        },
        "id": "ncu8KSRcozpJ",
        "outputId": "b8a876d6-880c-45e5-8c71-a4c52261e081"
      },
      "outputs": [
        {
          "output_type": "stream",
          "name": "stdout",
          "text": [
            "Downloading data from https://storage.googleapis.com/tensorflow/keras-applications/resnet/resnet50_weights_tf_dim_ordering_tf_kernels_notop.h5\n",
            "94765736/94765736 [==============================] - 3s 0us/step\n"
          ]
        }
      ],
      "source": [
        "resnet50 = Sequential()\n",
        "\n",
        "resnet50.add(ResNet50(input_shape=(48,48,3), include_top=False, weights='imagenet', pooling='max'))\n",
        "\n",
        "resnet50.add(Dense(1, activation='sigmoid'))"
      ]
    },
    {
      "cell_type": "code",
      "execution_count": 22,
      "id": "N6ZnSddMz7CK",
      "metadata": {
        "id": "N6ZnSddMz7CK"
      },
      "outputs": [],
      "source": [
        "resnet50.compile(optimizer='adam', loss='binary_crossentropy', metrics=['accuracy'])"
      ]
    },
    {
      "cell_type": "markdown",
      "id": "6696a39e",
      "metadata": {
        "id": "6696a39e"
      },
      "source": [
        "## Model Summary"
      ]
    },
    {
      "cell_type": "code",
      "execution_count": 23,
      "id": "4k-hAUW0sRQB",
      "metadata": {
        "colab": {
          "base_uri": "https://localhost:8080/"
        },
        "id": "4k-hAUW0sRQB",
        "outputId": "94916051-d591-4161-a781-b7b9f32dfd56"
      },
      "outputs": [
        {
          "output_type": "stream",
          "name": "stdout",
          "text": [
            "Looking in indexes: https://pypi.org/simple, https://us-python.pkg.dev/colab-wheels/public/simple/\n",
            "Collecting visualkeras\n",
            "  Downloading visualkeras-0.0.2-py3-none-any.whl (12 kB)\n",
            "Requirement already satisfied: numpy>=1.18.1 in /usr/local/lib/python3.9/dist-packages (from visualkeras) (1.22.4)\n",
            "Requirement already satisfied: pillow>=6.2.0 in /usr/local/lib/python3.9/dist-packages (from visualkeras) (8.4.0)\n",
            "Collecting aggdraw>=1.3.11\n",
            "  Downloading aggdraw-1.3.16-cp39-cp39-manylinux_2_17_x86_64.manylinux2014_x86_64.whl (992 kB)\n",
            "\u001b[2K     \u001b[90m━━━━━━━━━━━━━━━━━━━━━━━━━━━━━━━━━━━━━━\u001b[0m \u001b[32m992.0/992.0 KB\u001b[0m \u001b[31m32.6 MB/s\u001b[0m eta \u001b[36m0:00:00\u001b[0m\n",
            "\u001b[?25hInstalling collected packages: aggdraw, visualkeras\n",
            "Successfully installed aggdraw-1.3.16 visualkeras-0.0.2\n"
          ]
        }
      ],
      "source": [
        "!pip install visualkeras"
      ]
    },
    {
      "cell_type": "code",
      "execution_count": 24,
      "id": "F5ICf5eQ2x4Z",
      "metadata": {
        "colab": {
          "base_uri": "https://localhost:8080/",
          "height": 80
        },
        "id": "F5ICf5eQ2x4Z",
        "outputId": "fb4326c4-6119-4740-b09f-c01eacb99075"
      },
      "outputs": [
        {
          "output_type": "execute_result",
          "data": {
            "text/plain": [
              "<PIL.Image.Image image mode=RGBA size=262x63 at 0x7FBBA6EB72E0>"
            ],
            "image/png": "[encoded data removed]"
          },
          "metadata": {},
          "execution_count": 24
        }
      ],
      "source": [
        "import visualkeras\n",
        "visualkeras.layered_view(resnet50, legend=True, draw_volume=True, draw_funnel=False)"
      ]
    },
    {
      "cell_type": "code",
      "execution_count": 25,
      "id": "FjijBd-kylYX",
      "metadata": {
        "colab": {
          "base_uri": "https://localhost:8080/"
        },
        "id": "FjijBd-kylYX",
        "outputId": "0c2c44dc-be89-45f0-d299-84f0e20541e3"
      },
      "outputs": [
        {
          "output_type": "stream",
          "name": "stdout",
          "text": [
            "Model: \"sequential\"\n",
            "_________________________________________________________________\n",
            " Layer (type)                Output Shape              Param #   \n",
            "=================================================================\n",
            " resnet50 (Functional)       (None, 2048)              23587712  \n",
            "                                                                 \n",
            " dense (Dense)               (None, 1)                 2049      \n",
            "                                                                 \n",
            "=================================================================\n",
            "Total params: 23,589,761\n",
            "Trainable params: 23,536,641\n",
            "Non-trainable params: 53,120\n",
            "_________________________________________________________________\n"
          ]
        }
      ],
      "source": [
        "resnet50.summary()"
      ]
    },
    {
      "cell_type": "markdown",
      "id": "9febec7f",
      "metadata": {
        "id": "9febec7f"
      },
      "source": [
        "## Model Training"
      ]
    },
    {
      "cell_type": "code",
      "execution_count": 26,
      "id": "_88j6qn5yuwB",
      "metadata": {
        "colab": {
          "base_uri": "https://localhost:8080/"
        },
        "id": "_88j6qn5yuwB",
        "outputId": "40e95ea0-08c7-4bda-df7a-522747630726"
      },
      "outputs": [
        {
          "output_type": "stream",
          "name": "stdout",
          "text": [
            "Epoch 1/10\n",
            "456/456 [==============================] - 89s 55ms/step - loss: 0.8113 - accuracy: 0.7598 - val_loss: 0.7235 - val_accuracy: 0.5111\n",
            "Epoch 2/10\n",
            "456/456 [==============================] - 23s 51ms/step - loss: 0.4627 - accuracy: 0.8131 - val_loss: 0.4677 - val_accuracy: 0.7954\n",
            "Epoch 3/10\n",
            "456/456 [==============================] - 23s 51ms/step - loss: 0.2963 - accuracy: 0.8800 - val_loss: 0.3052 - val_accuracy: 0.8646\n",
            "Epoch 4/10\n",
            "456/456 [==============================] - 23s 50ms/step - loss: 0.2085 - accuracy: 0.9163 - val_loss: 0.3045 - val_accuracy: 0.8708\n",
            "Epoch 5/10\n",
            "456/456 [==============================] - 23s 51ms/step - loss: 0.1774 - accuracy: 0.9346 - val_loss: 0.3087 - val_accuracy: 0.8869\n",
            "Epoch 6/10\n",
            "456/456 [==============================] - 24s 53ms/step - loss: 0.1188 - accuracy: 0.9548 - val_loss: 2.1134 - val_accuracy: 0.6199\n",
            "Epoch 7/10\n",
            "456/456 [==============================] - 22s 49ms/step - loss: 0.4935 - accuracy: 0.7947 - val_loss: 0.4586 - val_accuracy: 0.8195\n",
            "Epoch 8/10\n",
            "456/456 [==============================] - 23s 50ms/step - loss: 0.6893 - accuracy: 0.7719 - val_loss: 0.5779 - val_accuracy: 0.6904\n",
            "Epoch 9/10\n",
            "456/456 [==============================] - 23s 51ms/step - loss: 0.3987 - accuracy: 0.8294 - val_loss: 0.3183 - val_accuracy: 0.8622\n",
            "Epoch 10/10\n",
            "456/456 [==============================] - 23s 50ms/step - loss: 0.2605 - accuracy: 0.8901 - val_loss: 0.2537 - val_accuracy: 0.8949\n"
          ]
        }
      ],
      "source": [
        "resnet50_history = resnet50.fit(X_train, y_train, validation_data=(X_val, y_val), epochs=10)"
      ]
    },
    {
      "cell_type": "markdown",
      "id": "15ec2ff8",
      "metadata": {
        "id": "15ec2ff8"
      },
      "source": [
        "## Result Plots"
      ]
    },
    {
      "cell_type": "code",
      "execution_count": 27,
      "id": "e2daef48",
      "metadata": {
        "id": "e2daef48"
      },
      "outputs": [],
      "source": [
        "def plot_curves(history):\n",
        "\n",
        "    loss = history.history[\"loss\"]\n",
        "    val_loss = history.history[\"val_loss\"]\n",
        "\n",
        "    accuracy = history.history[\"accuracy\"]\n",
        "    val_accuracy = history.history[\"val_accuracy\"]\n",
        "\n",
        "    epochs = range(len(history.history[\"loss\"]))\n",
        "\n",
        "    plt.figure(figsize=(15,5))\n",
        "\n",
        "    #plot loss\n",
        "    plt.subplot(1, 2, 1)\n",
        "    plt.plot(epochs, loss, label = \"train_loss\")\n",
        "    plt.plot(epochs, val_loss, label = \"val_loss\")\n",
        "    plt.title(\"Model Loss\")\n",
        "    plt.xlabel(\"Epochs\")\n",
        "    plt.ylabel(\"Loss\")\n",
        "    plt.legend()\n",
        "\n",
        "    #plot accuracy\n",
        "    plt.subplot(1, 2, 2)\n",
        "    plt.plot(epochs, accuracy, label = \"train_accuracy\")\n",
        "    plt.plot(epochs, val_accuracy, label = \"val_accuracy\")\n",
        "    plt.title(\"Model Accuracy\")\n",
        "    plt.xlabel(\"Epochs\")\n",
        "    plt.ylabel(\"Accuracy\")   \n",
        "    plt.legend()\n",
        "    \n",
        "    plt.tight_layout()"
      ]
    },
    {
      "cell_type": "code",
      "execution_count": 28,
      "id": "fb392cb5",
      "metadata": {
        "colab": {
          "base_uri": "https://localhost:8080/",
          "height": 423
        },
        "id": "fb392cb5",
        "outputId": "273e95b5-afa6-4726-88c6-d1872a168b37"
      },
      "outputs": [
        {
          "output_type": "display_data",
          "data": {
            "text/plain": [
              "<Figure size 1500x500 with 2 Axes>"
            ],
            "image/png": "[encoded data removed]"
          },
          "metadata": {}
        }
      ],
      "source": [
        "plot_curves(resnet50_history)"
      ]
    },
    {
      "cell_type": "markdown",
      "id": "3DcyW5Ul1gsf",
      "metadata": {
        "id": "3DcyW5Ul1gsf"
      },
      "source": [
        "# Model Evaluation"
      ]
    },
    {
      "cell_type": "code",
      "execution_count": 29,
      "id": "VYqldx6lthZT",
      "metadata": {
        "colab": {
          "base_uri": "https://localhost:8080/"
        },
        "id": "VYqldx6lthZT",
        "outputId": "28bd2fa0-c197-40e6-c702-6aa18038203b"
      },
      "outputs": [
        {
          "output_type": "stream",
          "name": "stdout",
          "text": [
            "456/456 [==============================] - 6s 13ms/step - loss: 0.1863 - accuracy: 0.9299\n",
            "Train loss = 0.19\n",
            "Train accuracy = 92.99%\n"
          ]
        }
      ],
      "source": [
        "train_loss, train_accuracy = resnet50.evaluate(X_train, y_train)\n",
        "print(\"Train loss = {:.2f}\".format(train_loss))\n",
        "print(\"Train accuracy = {:.2f}%\".format(train_accuracy*100))"
      ]
    },
    {
      "cell_type": "code",
      "execution_count": 30,
      "id": "0WtMg6D1thcV",
      "metadata": {
        "colab": {
          "base_uri": "https://localhost:8080/"
        },
        "id": "0WtMg6D1thcV",
        "outputId": "f6e4c0e9-fa24-4035-ed4c-52e6d1530565"
      },
      "outputs": [
        {
          "output_type": "stream",
          "name": "stdout",
          "text": [
            "51/51 [==============================] - 1s 15ms/step - loss: 0.2537 - accuracy: 0.8949\n",
            "Validation loss = 0.25\n",
            "Validation accuracy = 89.49%\n"
          ]
        }
      ],
      "source": [
        "val_loss, val_accuracy = resnet50.evaluate(X_val, y_val)\n",
        "print(\"Validation loss = {:.2f}\".format(val_loss))\n",
        "print(\"Validation accuracy = {:.2f}%\".format(val_accuracy*100))"
      ]
    },
    {
      "cell_type": "code",
      "execution_count": 31,
      "id": "lK1Soh0Ftsab",
      "metadata": {
        "colab": {
          "base_uri": "https://localhost:8080/"
        },
        "id": "lK1Soh0Ftsab",
        "outputId": "499f0862-f0df-4a8b-fc6d-7b763258a3b2"
      },
      "outputs": [
        {
          "output_type": "stream",
          "name": "stdout",
          "text": [
            "51/51 [==============================] - 2s 13ms/step\n"
          ]
        }
      ],
      "source": [
        "val_pred = resnet50.predict(X_val)\n",
        "y_val_pred = np.where(val_pred > 0.5, 1, 0)"
      ]
    },
    {
      "cell_type": "code",
      "execution_count": 32,
      "id": "23a64c0e",
      "metadata": {
        "colab": {
          "base_uri": "https://localhost:8080/",
          "height": 497
        },
        "id": "23a64c0e",
        "outputId": "821c8a01-e7c9-47e4-a955-66f712445711"
      },
      "outputs": [
        {
          "output_type": "stream",
          "name": "stdout",
          "text": [
            "Resnet50 Model Confusion Matrix\n"
          ]
        },
        {
          "output_type": "display_data",
          "data": {
            "text/plain": [
              "<Figure size 640x480 with 2 Axes>"
            ],
            "image/png": "[encoded data removed]"
          },
          "metadata": {}
        }
      ],
      "source": [
        "print('Resnet50 Model Confusion Matrix')\n",
        "\n",
        "cm = tf.math.confusion_matrix(y_val, y_val_pred, num_classes=2, dtype=tf.dtypes.int32)\n",
        "\n",
        "sns.heatmap(cm, annot=True, fmt=\"d\")\n",
        "\n",
        "plt.title('Resnet50 Confusion Matrix')\n",
        "plt.xlabel('Predicted')\n",
        "plt.ylabel('True')\n",
        "plt.show()"
      ]
    },
    {
      "cell_type": "code",
      "execution_count": 33,
      "id": "TSmQQXFMtovK",
      "metadata": {
        "colab": {
          "base_uri": "https://localhost:8080/",
          "height": 480
        },
        "id": "TSmQQXFMtovK",
        "outputId": "a45be9d8-c26a-4c72-8986-74ce42d79131"
      },
      "outputs": [
        {
          "output_type": "display_data",
          "data": {
            "text/plain": [
              "<Figure size 640x480 with 1 Axes>"
            ],
            "image/png": "[encoded data removed]"
          },
          "metadata": {}
        }
      ],
      "source": [
        "fpr, tpr, _ = roc_curve(y_val, y_val_pred)\n",
        "roc_auc = auc(fpr, tpr)\n",
        "plt.figure()\n",
        "lw = 2\n",
        "plt.plot(fpr, tpr, color='darkorange',\n",
        "lw=lw, label='ROC curve (area = %0.2f)' % roc_auc)\n",
        "plt.plot([0, 1], [0, 1], color='navy', lw=lw, linestyle='--')\n",
        "plt.xlim([0.0, 1.0])\n",
        "plt.ylim([0.0, 1.0])\n",
        "plt.xlabel('False Positive Rate')\n",
        "plt.ylabel('True Positive Rate')\n",
        "plt.title('Resnet50 ROC curve')\n",
        "plt.legend(loc=\"lower right\")\n",
        "plt.show()"
      ]
    },
    {
      "cell_type": "markdown",
      "id": "06b71860",
      "metadata": {
        "id": "06b71860"
      },
      "source": [
        "### Evaluation on Test Set"
      ]
    },
    {
      "cell_type": "code",
      "execution_count": 34,
      "id": "MnYjKFOH1PTX",
      "metadata": {
        "colab": {
          "base_uri": "https://localhost:8080/"
        },
        "id": "MnYjKFOH1PTX",
        "outputId": "e6728bd3-be86-4e4b-b46b-28cb9939cdf3"
      },
      "outputs": [
        {
          "output_type": "stream",
          "name": "stdout",
          "text": [
            "57/57 [==============================] - 1s 22ms/step - loss: 0.2386 - accuracy: 0.9027\n",
            "Loss = 0.24\n",
            "Accuracy = 90.27%\n"
          ]
        }
      ],
      "source": [
        "loss, accuracy = resnet50.evaluate(X_test, y_test)\n",
        "print(\"Loss = {:.2f}\".format(loss))\n",
        "print(\"Accuracy = {:.2f}%\".format(accuracy*100))"
      ]
    },
    {
      "cell_type": "code",
      "execution_count": 35,
      "id": "TdipNTbf2OUP",
      "metadata": {
        "colab": {
          "base_uri": "https://localhost:8080/"
        },
        "id": "TdipNTbf2OUP",
        "outputId": "7059ef90-ac3b-4817-976a-12bef713cf01"
      },
      "outputs": [
        {
          "output_type": "stream",
          "name": "stdout",
          "text": [
            "57/57 [==============================] - 1s 13ms/step\n"
          ]
        }
      ],
      "source": [
        "pred = resnet50.predict(X_test)\n",
        "y_pred = np.where(pred > 0.5, 1, 0)"
      ]
    },
    {
      "cell_type": "code",
      "execution_count": 36,
      "id": "aKQJo81v2L7A",
      "metadata": {
        "colab": {
          "base_uri": "https://localhost:8080/"
        },
        "id": "aKQJo81v2L7A",
        "outputId": "2739b791-5e49-4d58-c439-116fc66fbd98"
      },
      "outputs": [
        {
          "output_type": "stream",
          "name": "stdout",
          "text": [
            "Classification Report for Test set:\n",
            "              precision    recall  f1-score   support\n",
            "\n",
            "           0       0.91      0.90      0.90       901\n",
            "           1       0.90      0.91      0.90       897\n",
            "\n",
            "    accuracy                           0.90      1798\n",
            "   macro avg       0.90      0.90      0.90      1798\n",
            "weighted avg       0.90      0.90      0.90      1798\n",
            "\n"
          ]
        }
      ],
      "source": [
        "print('Classification Report for Test set:')\n",
        "print(classification_report(y_test, y_pred))"
      ]
    },
    {
      "cell_type": "code",
      "execution_count": 37,
      "id": "1OJE3W90uSDC",
      "metadata": {
        "colab": {
          "base_uri": "https://localhost:8080/"
        },
        "id": "1OJE3W90uSDC",
        "outputId": "48c5a23b-7d4e-47ad-d39b-668222e588c7"
      },
      "outputs": [
        {
          "output_type": "stream",
          "name": "stdout",
          "text": [
            "Accuracy: 0.90 \n",
            "Precision: 0.90 \n",
            "Recall: 0.91\n"
          ]
        }
      ],
      "source": [
        "acc = accuracy_score(y_test, y_pred)\n",
        "\n",
        "prec = precision_score(y_test, y_pred)\n",
        "\n",
        "rec = recall_score(y_test, y_pred)\n",
        "\n",
        "print(f\"Accuracy: {acc:.2f} \\nPrecision: {prec:.2f} \\nRecall: {rec:.2f}\")"
      ]
    },
    {
      "cell_type": "markdown",
      "id": "26eb6eff",
      "metadata": {
        "id": "26eb6eff"
      },
      "source": [
        "`ResNet50 Model for FER`"
      ]
    }
  ],
  "metadata": {
    "accelerator": "GPU",
    "colab": {
      "provenance": []
    },
    "gpuClass": "standard",
    "kernelspec": {
      "display_name": "Python 3 (ipykernel)",
      "language": "python",
      "name": "python3"
    },
    "language_info": {
      "codemirror_mode": {
        "name": "ipython",
        "version": 3
      },
      "file_extension": ".py",
      "mimetype": "text/x-python",
      "name": "python",
      "nbconvert_exporter": "python",
      "pygments_lexer": "ipython3",
      "version": "3.9.12"
    }
  },
  "nbformat": 4,
  "nbformat_minor": 5
}